{
  "nbformat": 4,
  "nbformat_minor": 0,
  "metadata": {
    "colab": {
      "provenance": [],
      "authorship_tag": "ABX9TyNOStp3y3iHW8NxlwLaJsxP",
      "include_colab_link": true
    },
    "kernelspec": {
      "name": "python3",
      "display_name": "Python 3"
    },
    "language_info": {
      "name": "python"
    }
  },
  "cells": [
    {
      "cell_type": "markdown",
      "metadata": {
        "id": "view-in-github",
        "colab_type": "text"
      },
      "source": [
        "<a href=\"https://colab.research.google.com/github/ChiragGadhvi/DLNLP-LAB/blob/main/Practical2.ipynb\" target=\"_parent\"><img src=\"https://colab.research.google.com/assets/colab-badge.svg\" alt=\"Open In Colab\"/></a>"
      ]
    },
    {
      "cell_type": "markdown",
      "source": [
        "\n",
        "\n",
        "# Implementation to Convert the text to word count vectors with ScikitLearn.\n",
        "> Count Vectorizer"
      ],
      "metadata": {
        "id": "FRwQSoUZjpd6"
      }
    },
    {
      "cell_type": "code",
      "source": [
        "from sklearn.feature_extraction.text import CountVectorizer\n",
        "\n",
        "document = [\"This is First Document\",\n",
        "\t\t\t\"Here is the Second Document\",\n",
        "\t\t\t\"Third document is here\"]\n",
        "\n",
        "# Create a Vectorizer Object\n",
        "vectorizer = CountVectorizer()\n",
        "\n",
        "vectorizer.fit(document)\n",
        "\n",
        "# Printing the identified Unique words along with their indices\n",
        "print(\"Vocabulary: \", vectorizer.vocabulary_)\n",
        "\n",
        "# Encode the Document\n",
        "vector = vectorizer.transform(document)\n",
        "\n",
        "# Summarizing the Encoded Texts\n",
        "print(\"Encoded Document is:\")\n",
        "print(vector.toarray())\n"
      ],
      "metadata": {
        "colab": {
          "base_uri": "https://localhost:8080/"
        },
        "id": "GQsugu9UpDS2",
        "outputId": "3280736d-4185-4945-c34a-744cbc4c8064"
      },
      "execution_count": null,
      "outputs": [
        {
          "output_type": "stream",
          "name": "stdout",
          "text": [
            "Vocabulary:  {'this': 7, 'is': 3, 'first': 1, 'document': 0, 'here': 2, 'the': 5, 'second': 4, 'third': 6}\n",
            "Encoded Document is:\n",
            "[[1 1 0 1 0 0 0 1]\n",
            " [1 0 1 1 1 1 0 0]\n",
            " [1 0 1 1 0 0 1 0]]\n"
          ]
        }
      ]
    },
    {
      "cell_type": "code",
      "source": [],
      "metadata": {
        "id": "lGEe_ltHwcip"
      },
      "execution_count": null,
      "outputs": []
    }
  ]
}